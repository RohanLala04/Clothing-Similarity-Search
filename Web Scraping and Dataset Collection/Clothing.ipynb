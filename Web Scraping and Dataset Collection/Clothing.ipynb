{
 "cells": [
  {
   "cell_type": "code",
   "execution_count": 19,
   "id": "110a98e6",
   "metadata": {},
   "outputs": [],
   "source": [
    "import pandas as pd\n",
    "import numpy as np\n",
    "import re"
   ]
  },
  {
   "cell_type": "code",
   "execution_count": 44,
   "id": "715d865d",
   "metadata": {},
   "outputs": [
    {
     "data": {
      "text/html": [
       "<div>\n",
       "<style scoped>\n",
       "    .dataframe tbody tr th:only-of-type {\n",
       "        vertical-align: middle;\n",
       "    }\n",
       "\n",
       "    .dataframe tbody tr th {\n",
       "        vertical-align: top;\n",
       "    }\n",
       "\n",
       "    .dataframe thead th {\n",
       "        text-align: right;\n",
       "    }\n",
       "</style>\n",
       "<table border=\"1\" class=\"dataframe\">\n",
       "  <thead>\n",
       "    <tr style=\"text-align: right;\">\n",
       "      <th></th>\n",
       "      <th>Product_Description</th>\n",
       "      <th>Product_Link</th>\n",
       "    </tr>\n",
       "  </thead>\n",
       "  <tbody>\n",
       "    <tr>\n",
       "      <th>0</th>\n",
       "      <td>Men's 512 Blue Slim Tapered Jeans</td>\n",
       "      <td>https://www.levi.in/men/jeans-by-style/512-sli...</td>\n",
       "    </tr>\n",
       "    <tr>\n",
       "      <th>1</th>\n",
       "      <td>Levi's® Men's 512 Styled Slim Tapered Fit Jeans</td>\n",
       "      <td>https://www.levi.in/men/jeans-by-style/512-sli...</td>\n",
       "    </tr>\n",
       "    <tr>\n",
       "      <th>2</th>\n",
       "      <td>Levi's® Men's 511™ Slim Fit Jeans</td>\n",
       "      <td>https://www.levi.in/men/jeans-by-style/511-sli...</td>\n",
       "    </tr>\n",
       "    <tr>\n",
       "      <th>3</th>\n",
       "      <td>Levi's® Men's 512™ Slim Taper Jeans</td>\n",
       "      <td>https://www.levi.in/men/jeans-by-style/512-sli...</td>\n",
       "    </tr>\n",
       "    <tr>\n",
       "      <th>4</th>\n",
       "      <td>Levi's® Men's 512 Slim Tapered Fit Jeans</td>\n",
       "      <td>https://www.levi.in/men/jeans-by-style/512-sli...</td>\n",
       "    </tr>\n",
       "  </tbody>\n",
       "</table>\n",
       "</div>"
      ],
      "text/plain": [
       "                               Product_Description  \\\n",
       "0                Men's 512 Blue Slim Tapered Jeans   \n",
       "1  Levi's® Men's 512 Styled Slim Tapered Fit Jeans   \n",
       "2                Levi's® Men's 511™ Slim Fit Jeans   \n",
       "3              Levi's® Men's 512™ Slim Taper Jeans   \n",
       "4         Levi's® Men's 512 Slim Tapered Fit Jeans   \n",
       "\n",
       "                                        Product_Link  \n",
       "0  https://www.levi.in/men/jeans-by-style/512-sli...  \n",
       "1  https://www.levi.in/men/jeans-by-style/512-sli...  \n",
       "2  https://www.levi.in/men/jeans-by-style/511-sli...  \n",
       "3  https://www.levi.in/men/jeans-by-style/512-sli...  \n",
       "4  https://www.levi.in/men/jeans-by-style/512-sli...  "
      ]
     },
     "execution_count": 44,
     "metadata": {},
     "output_type": "execute_result"
    }
   ],
   "source": [
    "# List of file paths\n",
    "file_paths = ['levi-M_output.csv', 'levi-W_output.csv','hm_output.csv', 'pepejeans_output.csv', 'zara_output.csv']\n",
    "\n",
    "# Create an empty list to store the dataframes\n",
    "dfs = []\n",
    "\n",
    "# Load each CSV file into a dataframe and append to the list\n",
    "for file_path in file_paths:\n",
    "    df = pd.read_csv(file_path)\n",
    "    dfs.append(df)\n",
    "\n",
    "# Concatenate the dataframes into a single dataframe\n",
    "main_df = pd.concat(dfs, ignore_index=True)\n",
    "\n",
    "# Print the combined dataframe\n",
    "main_df.head()"
   ]
  },
  {
   "cell_type": "code",
   "execution_count": 51,
   "id": "ca520a93",
   "metadata": {},
   "outputs": [
    {
     "data": {
      "text/html": [
       "<div>\n",
       "<style scoped>\n",
       "    .dataframe tbody tr th:only-of-type {\n",
       "        vertical-align: middle;\n",
       "    }\n",
       "\n",
       "    .dataframe tbody tr th {\n",
       "        vertical-align: top;\n",
       "    }\n",
       "\n",
       "    .dataframe thead th {\n",
       "        text-align: right;\n",
       "    }\n",
       "</style>\n",
       "<table border=\"1\" class=\"dataframe\">\n",
       "  <thead>\n",
       "    <tr style=\"text-align: right;\">\n",
       "      <th></th>\n",
       "      <th>Product_Description</th>\n",
       "      <th>Product_Link</th>\n",
       "    </tr>\n",
       "  </thead>\n",
       "  <tbody>\n",
       "    <tr>\n",
       "      <th>0</th>\n",
       "      <td>Men's  Blue Slim Tapered Jeans</td>\n",
       "      <td>https://www.levi.in/men/jeans-by-style/512-sli...</td>\n",
       "    </tr>\n",
       "    <tr>\n",
       "      <th>1</th>\n",
       "      <td>Men's  Styled Slim Tapered Fit Jeans</td>\n",
       "      <td>https://www.levi.in/men/jeans-by-style/512-sli...</td>\n",
       "    </tr>\n",
       "    <tr>\n",
       "      <th>2</th>\n",
       "      <td>Men's  Slim Fit Jeans</td>\n",
       "      <td>https://www.levi.in/men/jeans-by-style/511-sli...</td>\n",
       "    </tr>\n",
       "    <tr>\n",
       "      <th>3</th>\n",
       "      <td>Men's  Slim Taper Jeans</td>\n",
       "      <td>https://www.levi.in/men/jeans-by-style/512-sli...</td>\n",
       "    </tr>\n",
       "    <tr>\n",
       "      <th>4</th>\n",
       "      <td>Men's  Slim Tapered Fit Jeans</td>\n",
       "      <td>https://www.levi.in/men/jeans-by-style/512-sli...</td>\n",
       "    </tr>\n",
       "  </tbody>\n",
       "</table>\n",
       "</div>"
      ],
      "text/plain": [
       "                     Product_Description  \\\n",
       "0         Men's  Blue Slim Tapered Jeans   \n",
       "1   Men's  Styled Slim Tapered Fit Jeans   \n",
       "2                  Men's  Slim Fit Jeans   \n",
       "3                Men's  Slim Taper Jeans   \n",
       "4          Men's  Slim Tapered Fit Jeans   \n",
       "\n",
       "                                        Product_Link  \n",
       "0  https://www.levi.in/men/jeans-by-style/512-sli...  \n",
       "1  https://www.levi.in/men/jeans-by-style/512-sli...  \n",
       "2  https://www.levi.in/men/jeans-by-style/511-sli...  \n",
       "3  https://www.levi.in/men/jeans-by-style/512-sli...  \n",
       "4  https://www.levi.in/men/jeans-by-style/512-sli...  "
      ]
     },
     "execution_count": 51,
     "metadata": {},
     "output_type": "execute_result"
    }
   ],
   "source": [
    "import pandas as pd\n",
    "import re\n",
    "\n",
    "# Remove numbers and unwanted characters from the \"Product_Description\" column\n",
    "main_df['Product_Description'] = main_df['Product_Description'].str.replace(r'\\d+', '', regex=True).str.replace(\"®\", '').str.replace(\"™\",'').str.replace(\"Levi's\",'')\n",
    "\n",
    "# Print the modified dataframe\n",
    "main_df.head()"
   ]
  },
  {
   "cell_type": "code",
   "execution_count": 53,
   "id": "ed47b8b5",
   "metadata": {},
   "outputs": [],
   "source": [
    "# Save the DataFrame to a CSV file\n",
    "main_df.to_csv('clothing-final.csv', index=False)"
   ]
  }
 ],
 "metadata": {
  "kernelspec": {
   "display_name": "Python 3 (ipykernel)",
   "language": "python",
   "name": "python3"
  },
  "language_info": {
   "codemirror_mode": {
    "name": "ipython",
    "version": 3
   },
   "file_extension": ".py",
   "mimetype": "text/x-python",
   "name": "python",
   "nbconvert_exporter": "python",
   "pygments_lexer": "ipython3",
   "version": "3.10.9"
  }
 },
 "nbformat": 4,
 "nbformat_minor": 5
}
